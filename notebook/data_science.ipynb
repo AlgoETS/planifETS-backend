{
 "cells": [
  {
   "cell_type": "markdown",
   "metadata": {},
   "source": [
    "# Install necessary packages"
   ]
  },
  {
   "cell_type": "code",
   "execution_count": 12,
   "metadata": {},
   "outputs": [
    {
     "name": "stdout",
     "output_type": "stream",
     "text": [
      "Requirement already satisfied: pip in /usr/local/python/3.12.1/lib/python3.12/site-packages (24.3.1)\n"
     ]
    }
   ],
   "source": [
    "!pip install --upgrade pip"
   ]
  },
  {
   "cell_type": "code",
   "execution_count": 13,
   "metadata": {},
   "outputs": [
    {
     "name": "stdout",
     "output_type": "stream",
     "text": [
      "Requirement already satisfied: torch in /home/codespace/.local/lib/python3.12/site-packages (2.4.1+cpu)\n",
      "Requirement already satisfied: numpy in /usr/local/python/3.12.1/lib/python3.12/site-packages (2.0.2)\n",
      "Requirement already satisfied: pandas in /home/codespace/.local/lib/python3.12/site-packages (2.2.3)\n",
      "Requirement already satisfied: scikit-learn in /home/codespace/.local/lib/python3.12/site-packages (1.5.2)\n",
      "Requirement already satisfied: plotly in /home/codespace/.local/lib/python3.12/site-packages (5.24.1)\n",
      "Requirement already satisfied: nltk in /usr/local/python/3.12.1/lib/python3.12/site-packages (3.9.1)\n",
      "Requirement already satisfied: transformers in /usr/local/python/3.12.1/lib/python3.12/site-packages (4.46.3)\n",
      "Requirement already satisfied: sentence-transformers in /usr/local/python/3.12.1/lib/python3.12/site-packages (3.3.1)\n",
      "Requirement already satisfied: einops in /usr/local/python/3.12.1/lib/python3.12/site-packages (0.8.0)\n",
      "Requirement already satisfied: datasets in /usr/local/python/3.12.1/lib/python3.12/site-packages (3.1.0)\n",
      "Requirement already satisfied: gradio in /usr/local/python/3.12.1/lib/python3.12/site-packages (5.6.0)\n",
      "Requirement already satisfied: networkx in /home/codespace/.local/lib/python3.12/site-packages (3.2.1)\n",
      "Requirement already satisfied: umap-learn in /usr/local/python/3.12.1/lib/python3.12/site-packages (0.5.7)\n",
      "Requirement already satisfied: filelock in /home/codespace/.local/lib/python3.12/site-packages (from torch) (3.13.1)\n",
      "Requirement already satisfied: typing-extensions>=4.8.0 in /usr/local/python/3.12.1/lib/python3.12/site-packages (from torch) (4.12.2)\n",
      "Requirement already satisfied: sympy in /home/codespace/.local/lib/python3.12/site-packages (from torch) (1.12)\n",
      "Requirement already satisfied: jinja2 in /home/codespace/.local/lib/python3.12/site-packages (from torch) (3.1.4)\n",
      "Requirement already satisfied: fsspec in /home/codespace/.local/lib/python3.12/site-packages (from torch) (2024.2.0)\n",
      "Requirement already satisfied: setuptools in /home/codespace/.local/lib/python3.12/site-packages (from torch) (75.1.0)\n",
      "Requirement already satisfied: python-dateutil>=2.8.2 in /home/codespace/.local/lib/python3.12/site-packages (from pandas) (2.9.0.post0)\n",
      "Requirement already satisfied: pytz>=2020.1 in /home/codespace/.local/lib/python3.12/site-packages (from pandas) (2024.2)\n",
      "Requirement already satisfied: tzdata>=2022.7 in /home/codespace/.local/lib/python3.12/site-packages (from pandas) (2024.2)\n",
      "Requirement already satisfied: scipy>=1.6.0 in /home/codespace/.local/lib/python3.12/site-packages (from scikit-learn) (1.14.1)\n",
      "Requirement already satisfied: joblib>=1.2.0 in /home/codespace/.local/lib/python3.12/site-packages (from scikit-learn) (1.4.2)\n",
      "Requirement already satisfied: threadpoolctl>=3.1.0 in /home/codespace/.local/lib/python3.12/site-packages (from scikit-learn) (3.5.0)\n",
      "Requirement already satisfied: tenacity>=6.2.0 in /home/codespace/.local/lib/python3.12/site-packages (from plotly) (9.0.0)\n",
      "Requirement already satisfied: packaging in /home/codespace/.local/lib/python3.12/site-packages (from plotly) (24.1)\n",
      "Requirement already satisfied: click in /usr/local/python/3.12.1/lib/python3.12/site-packages (from nltk) (8.1.7)\n",
      "Requirement already satisfied: regex>=2021.8.3 in /usr/local/python/3.12.1/lib/python3.12/site-packages (from nltk) (2024.11.6)\n",
      "Requirement already satisfied: tqdm in /usr/local/python/3.12.1/lib/python3.12/site-packages (from nltk) (4.67.0)\n",
      "Requirement already satisfied: huggingface-hub<1.0,>=0.23.2 in /usr/local/python/3.12.1/lib/python3.12/site-packages (from transformers) (0.26.2)\n",
      "Requirement already satisfied: pyyaml>=5.1 in /home/codespace/.local/lib/python3.12/site-packages (from transformers) (6.0.2)\n",
      "Requirement already satisfied: requests in /home/codespace/.local/lib/python3.12/site-packages (from transformers) (2.32.3)\n",
      "Requirement already satisfied: tokenizers<0.21,>=0.20 in /usr/local/python/3.12.1/lib/python3.12/site-packages (from transformers) (0.20.3)\n",
      "Requirement already satisfied: safetensors>=0.4.1 in /usr/local/python/3.12.1/lib/python3.12/site-packages (from transformers) (0.4.5)\n",
      "Requirement already satisfied: Pillow in /home/codespace/.local/lib/python3.12/site-packages (from sentence-transformers) (10.4.0)\n",
      "Requirement already satisfied: pyarrow>=15.0.0 in /usr/local/python/3.12.1/lib/python3.12/site-packages (from datasets) (18.0.0)\n",
      "Requirement already satisfied: dill<0.3.9,>=0.3.0 in /usr/local/python/3.12.1/lib/python3.12/site-packages (from datasets) (0.3.8)\n",
      "Requirement already satisfied: xxhash in /usr/local/python/3.12.1/lib/python3.12/site-packages (from datasets) (3.5.0)\n",
      "Requirement already satisfied: multiprocess<0.70.17 in /usr/local/python/3.12.1/lib/python3.12/site-packages (from datasets) (0.70.16)\n",
      "Requirement already satisfied: aiohttp in /usr/local/python/3.12.1/lib/python3.12/site-packages (from datasets) (3.11.7)\n",
      "Requirement already satisfied: aiofiles<24.0,>=22.0 in /usr/local/python/3.12.1/lib/python3.12/site-packages (from gradio) (23.2.1)\n",
      "Requirement already satisfied: anyio<5.0,>=3.0 in /home/codespace/.local/lib/python3.12/site-packages (from gradio) (4.6.0)\n",
      "Requirement already satisfied: fastapi<1.0,>=0.115.2 in /usr/local/python/3.12.1/lib/python3.12/site-packages (from gradio) (0.115.5)\n",
      "Requirement already satisfied: ffmpy in /usr/local/python/3.12.1/lib/python3.12/site-packages (from gradio) (0.4.0)\n",
      "Requirement already satisfied: gradio-client==1.4.3 in /usr/local/python/3.12.1/lib/python3.12/site-packages (from gradio) (1.4.3)\n",
      "Requirement already satisfied: httpx>=0.24.1 in /home/codespace/.local/lib/python3.12/site-packages (from gradio) (0.27.2)\n",
      "Requirement already satisfied: markupsafe~=2.0 in /home/codespace/.local/lib/python3.12/site-packages (from gradio) (2.1.5)\n",
      "Requirement already satisfied: orjson~=3.0 in /usr/local/python/3.12.1/lib/python3.12/site-packages (from gradio) (3.10.11)\n",
      "Requirement already satisfied: pydantic>=2.0 in /usr/local/python/3.12.1/lib/python3.12/site-packages (from gradio) (2.10.0)\n",
      "Requirement already satisfied: pydub in /usr/local/python/3.12.1/lib/python3.12/site-packages (from gradio) (0.25.1)\n",
      "Requirement already satisfied: python-multipart==0.0.12 in /usr/local/python/3.12.1/lib/python3.12/site-packages (from gradio) (0.0.12)\n",
      "Requirement already satisfied: ruff>=0.2.2 in /usr/local/python/3.12.1/lib/python3.12/site-packages (from gradio) (0.7.4)\n",
      "Requirement already satisfied: safehttpx<1.0,>=0.1.1 in /usr/local/python/3.12.1/lib/python3.12/site-packages (from gradio) (0.1.1)\n",
      "Requirement already satisfied: semantic-version~=2.0 in /usr/local/python/3.12.1/lib/python3.12/site-packages (from gradio) (2.10.0)\n",
      "Requirement already satisfied: starlette<1.0,>=0.40.0 in /usr/local/python/3.12.1/lib/python3.12/site-packages (from gradio) (0.41.3)\n",
      "Requirement already satisfied: tomlkit==0.12.0 in /usr/local/python/3.12.1/lib/python3.12/site-packages (from gradio) (0.12.0)\n",
      "Requirement already satisfied: typer<1.0,>=0.12 in /usr/local/python/3.12.1/lib/python3.12/site-packages (from gradio) (0.13.1)\n",
      "Requirement already satisfied: uvicorn>=0.14.0 in /usr/local/python/3.12.1/lib/python3.12/site-packages (from gradio) (0.32.1)\n",
      "Requirement already satisfied: websockets<13.0,>=10.0 in /usr/local/python/3.12.1/lib/python3.12/site-packages (from gradio-client==1.4.3->gradio) (12.0)\n",
      "Requirement already satisfied: numba>=0.51.2 in /usr/local/python/3.12.1/lib/python3.12/site-packages (from umap-learn) (0.60.0)\n",
      "Requirement already satisfied: pynndescent>=0.5 in /usr/local/python/3.12.1/lib/python3.12/site-packages (from umap-learn) (0.5.13)\n",
      "Requirement already satisfied: idna>=2.8 in /home/codespace/.local/lib/python3.12/site-packages (from anyio<5.0,>=3.0->gradio) (3.10)\n",
      "Requirement already satisfied: sniffio>=1.1 in /home/codespace/.local/lib/python3.12/site-packages (from anyio<5.0,>=3.0->gradio) (1.3.1)\n",
      "Requirement already satisfied: aiohappyeyeballs>=2.3.0 in /usr/local/python/3.12.1/lib/python3.12/site-packages (from aiohttp->datasets) (2.4.3)\n",
      "Requirement already satisfied: aiosignal>=1.1.2 in /usr/local/python/3.12.1/lib/python3.12/site-packages (from aiohttp->datasets) (1.3.1)\n",
      "Requirement already satisfied: attrs>=17.3.0 in /home/codespace/.local/lib/python3.12/site-packages (from aiohttp->datasets) (24.2.0)\n",
      "Requirement already satisfied: frozenlist>=1.1.1 in /usr/local/python/3.12.1/lib/python3.12/site-packages (from aiohttp->datasets) (1.5.0)\n",
      "Requirement already satisfied: multidict<7.0,>=4.5 in /usr/local/python/3.12.1/lib/python3.12/site-packages (from aiohttp->datasets) (6.1.0)\n",
      "Requirement already satisfied: propcache>=0.2.0 in /usr/local/python/3.12.1/lib/python3.12/site-packages (from aiohttp->datasets) (0.2.0)\n",
      "Requirement already satisfied: yarl<2.0,>=1.17.0 in /usr/local/python/3.12.1/lib/python3.12/site-packages (from aiohttp->datasets) (1.18.0)\n",
      "Requirement already satisfied: certifi in /home/codespace/.local/lib/python3.12/site-packages (from httpx>=0.24.1->gradio) (2024.8.30)\n",
      "Requirement already satisfied: httpcore==1.* in /home/codespace/.local/lib/python3.12/site-packages (from httpx>=0.24.1->gradio) (1.0.5)\n",
      "Requirement already satisfied: h11<0.15,>=0.13 in /home/codespace/.local/lib/python3.12/site-packages (from httpcore==1.*->httpx>=0.24.1->gradio) (0.14.0)\n",
      "Requirement already satisfied: llvmlite<0.44,>=0.43.0dev0 in /usr/local/python/3.12.1/lib/python3.12/site-packages (from numba>=0.51.2->umap-learn) (0.43.0)\n",
      "Requirement already satisfied: annotated-types>=0.6.0 in /usr/local/python/3.12.1/lib/python3.12/site-packages (from pydantic>=2.0->gradio) (0.7.0)\n",
      "Requirement already satisfied: pydantic-core==2.27.0 in /usr/local/python/3.12.1/lib/python3.12/site-packages (from pydantic>=2.0->gradio) (2.27.0)\n",
      "Requirement already satisfied: six>=1.5 in /home/codespace/.local/lib/python3.12/site-packages (from python-dateutil>=2.8.2->pandas) (1.16.0)\n",
      "Requirement already satisfied: charset-normalizer<4,>=2 in /home/codespace/.local/lib/python3.12/site-packages (from requests->transformers) (3.3.2)\n",
      "Requirement already satisfied: urllib3<3,>=1.21.1 in /home/codespace/.local/lib/python3.12/site-packages (from requests->transformers) (2.2.3)\n",
      "Requirement already satisfied: shellingham>=1.3.0 in /usr/local/python/3.12.1/lib/python3.12/site-packages (from typer<1.0,>=0.12->gradio) (1.5.4)\n",
      "Requirement already satisfied: rich>=10.11.0 in /usr/local/python/3.12.1/lib/python3.12/site-packages (from typer<1.0,>=0.12->gradio) (13.9.4)\n",
      "Requirement already satisfied: mpmath>=0.19 in /home/codespace/.local/lib/python3.12/site-packages (from sympy->torch) (1.3.0)\n",
      "Requirement already satisfied: markdown-it-py>=2.2.0 in /usr/local/python/3.12.1/lib/python3.12/site-packages (from rich>=10.11.0->typer<1.0,>=0.12->gradio) (3.0.0)\n",
      "Requirement already satisfied: pygments<3.0.0,>=2.13.0 in /home/codespace/.local/lib/python3.12/site-packages (from rich>=10.11.0->typer<1.0,>=0.12->gradio) (2.18.0)\n",
      "Requirement already satisfied: mdurl~=0.1 in /usr/local/python/3.12.1/lib/python3.12/site-packages (from markdown-it-py>=2.2.0->rich>=10.11.0->typer<1.0,>=0.12->gradio) (0.1.2)\n"
     ]
    }
   ],
   "source": [
    "!pip install torch numpy pandas scikit-learn plotly nltk transformers sentence-transformers einops datasets gradio networkx umap-learn"
   ]
  },
  {
   "cell_type": "markdown",
   "metadata": {},
   "source": [
    "# Import Libraries"
   ]
  },
  {
   "cell_type": "code",
   "execution_count": 14,
   "metadata": {},
   "outputs": [],
   "source": [
    "import os\n",
    "import pandas as pd\n",
    "import numpy as np\n",
    "import torch\n",
    "from transformers import AutoTokenizer, AutoModel\n",
    "from sklearn.decomposition import PCA\n",
    "from sklearn.manifold import TSNE\n",
    "from sklearn.neighbors import NearestNeighbors\n",
    "import plotly.express as px\n",
    "import nltk\n",
    "from nltk.corpus import stopwords\n",
    "from nltk.tokenize import word_tokenize, sent_tokenize\n",
    "from nltk.tokenize import PunktSentenceTokenizer\n",
    "from sklearn.manifold import TSNE\n",
    "from IPython.display import display\n",
    "import umap"
   ]
  },
  {
   "cell_type": "markdown",
   "metadata": {},
   "source": [
    "# Download NLTK resources"
   ]
  },
  {
   "cell_type": "code",
   "execution_count": 15,
   "metadata": {},
   "outputs": [
    {
     "name": "stderr",
     "output_type": "stream",
     "text": [
      "[nltk_data] Downloading package punkt to /home/codespace/nltk_data...\n",
      "[nltk_data]   Package punkt is already up-to-date!\n",
      "[nltk_data] Downloading package punkt_tab to\n",
      "[nltk_data]     /home/codespace/nltk_data...\n",
      "[nltk_data]   Package punkt_tab is already up-to-date!\n",
      "[nltk_data] Downloading package stopwords to\n",
      "[nltk_data]     /home/codespace/nltk_data...\n",
      "[nltk_data]   Package stopwords is already up-to-date!\n"
     ]
    },
    {
     "data": {
      "text/plain": [
       "True"
      ]
     },
     "execution_count": 15,
     "metadata": {},
     "output_type": "execute_result"
    }
   ],
   "source": [
    "nltk.download('punkt')\n",
    "nltk.download('punkt_tab')\n",
    "nltk.download('stopwords')"
   ]
  },
  {
   "cell_type": "code",
   "execution_count": 16,
   "metadata": {},
   "outputs": [],
   "source": [
    "# Define stopwords\n",
    "stop_words = set(stopwords.words('french'))\n",
    "\n",
    "def remove_stopwords(text):\n",
    "    # Tokenize into words\n",
    "    words = word_tokenize(text.lower())\n",
    "    # Remove stopwords and non-alphabetic tokens\n",
    "    filtered_words = [word for word in words if word.isalpha() and word not in stop_words]\n",
    "    return ' '.join(filtered_words)"
   ]
  },
  {
   "cell_type": "code",
   "execution_count": 17,
   "metadata": {},
   "outputs": [],
   "source": [
    "def tokenize_sentences(text):\n",
    "    sentences = sent_tokenize(text, language='french')\n",
    "    return ' '.join(sentences)"
   ]
  },
  {
   "cell_type": "code",
   "execution_count": 18,
   "metadata": {},
   "outputs": [],
   "source": [
    "def preprocess_text(text):\n",
    "    # Remove stopwords\n",
    "    no_stopwords = remove_stopwords(text)\n",
    "    return no_stopwords"
   ]
  },
  {
   "cell_type": "markdown",
   "metadata": {},
   "source": [
    "# Load MiniLM model and tokenizer for generating embeddings"
   ]
  },
  {
   "cell_type": "code",
   "execution_count": 19,
   "metadata": {},
   "outputs": [],
   "source": [
    "tokenizer = AutoTokenizer.from_pretrained(\"sentence-transformers/all-MiniLM-L6-v2\")\n",
    "model = AutoModel.from_pretrained(\"sentence-transformers/all-MiniLM-L6-v2\")\n",
    "# tokenizer = AutoTokenizer.from_pretrained(\"nvidia/NV-Embed-v2\", trust_remote_code=True)\n",
    "# model = AutoModel.from_pretrained(\"nvidia/NV-Embed-v2\", trust_remote_code=True)\n",
    "# # Move model to GPU if available for faster computation\n",
    "# device = torch.device('cuda' if torch.cuda.is_available() else 'cpu')\n",
    "# model.to(device)"
   ]
  },
  {
   "cell_type": "markdown",
   "metadata": {},
   "source": [
    "# Load the CSV files to inspect their contents"
   ]
  },
  {
   "cell_type": "code",
   "execution_count": 20,
   "metadata": {},
   "outputs": [],
   "source": [
    "current_dir = os.getcwd() + '/notebook/data'"
   ]
  },
  {
   "cell_type": "code",
   "execution_count": 21,
   "metadata": {},
   "outputs": [],
   "source": [
    "program_df = pd.read_csv(os.path.join(current_dir, 'Program.csv'))\n",
    "program_course_df = pd.read_csv(os.path.join(current_dir, 'ProgramCourse.csv'))\n",
    "program_type_df = pd.read_csv(os.path.join(current_dir, 'ProgramType.csv'))\n",
    "course_df = pd.read_csv(os.path.join(current_dir, 'Course.csv'))"
   ]
  },
  {
   "cell_type": "markdown",
   "metadata": {},
   "source": [
    "# Inspect the DataFrames"
   ]
  },
  {
   "cell_type": "code",
   "execution_count": 22,
   "metadata": {},
   "outputs": [
    {
     "name": "stdout",
     "output_type": "stream",
     "text": [
      "Program DataFrame Head:\n"
     ]
    },
    {
     "data": {
      "text/html": [
       "<div>\n",
       "<style scoped>\n",
       "    .dataframe tbody tr th:only-of-type {\n",
       "        vertical-align: middle;\n",
       "    }\n",
       "\n",
       "    .dataframe tbody tr th {\n",
       "        vertical-align: top;\n",
       "    }\n",
       "\n",
       "    .dataframe thead th {\n",
       "        text-align: right;\n",
       "    }\n",
       "</style>\n",
       "<table border=\"1\" class=\"dataframe\">\n",
       "  <thead>\n",
       "    <tr style=\"text-align: right;\">\n",
       "      <th></th>\n",
       "      <th>code</th>\n",
       "      <th>credits</th>\n",
       "      <th>horaireCoursPdfJson</th>\n",
       "      <th>planificationPdfJson</th>\n",
       "      <th>createdAt</th>\n",
       "      <th>updatedAt</th>\n",
       "      <th>title</th>\n",
       "      <th>url</th>\n",
       "      <th>cycle</th>\n",
       "      <th>id</th>\n",
       "    </tr>\n",
       "  </thead>\n",
       "  <tbody>\n",
       "    <tr>\n",
       "      <th>0</th>\n",
       "      <td>0648</td>\n",
       "      <td>15 crédits</td>\n",
       "      <td>NaN</td>\n",
       "      <td>NaN</td>\n",
       "      <td>2024-10-17 04:32:25.190</td>\n",
       "      <td>2024-11-02 01:50:20.409</td>\n",
       "      <td>Programme court de 2&lt;sup&gt;e&lt;/sup&gt; cycle en géni...</td>\n",
       "      <td>https://www.etsmtl.ca/programmes-formations/pr...</td>\n",
       "      <td>2</td>\n",
       "      <td>183146</td>\n",
       "    </tr>\n",
       "    <tr>\n",
       "      <th>1</th>\n",
       "      <td>0569</td>\n",
       "      <td>15 crédits</td>\n",
       "      <td>NaN</td>\n",
       "      <td>NaN</td>\n",
       "      <td>2024-10-17 04:32:25.191</td>\n",
       "      <td>2024-11-02 01:50:20.409</td>\n",
       "      <td>Programme court de 2&lt;sup&gt;e&lt;/sup&gt; cycle en géni...</td>\n",
       "      <td>https://www.etsmtl.ca/programmes-formations/pr...</td>\n",
       "      <td>2</td>\n",
       "      <td>183156</td>\n",
       "    </tr>\n",
       "    <tr>\n",
       "      <th>2</th>\n",
       "      <td>0514</td>\n",
       "      <td>15 crédits</td>\n",
       "      <td>NaN</td>\n",
       "      <td>NaN</td>\n",
       "      <td>2024-10-17 04:32:25.191</td>\n",
       "      <td>2024-11-02 01:50:20.409</td>\n",
       "      <td>Programme court de 2&lt;sup&gt;e&lt;/sup&gt; cycle en gest...</td>\n",
       "      <td>https://www.etsmtl.ca/programmes-formations/pr...</td>\n",
       "      <td>2</td>\n",
       "      <td>183236</td>\n",
       "    </tr>\n",
       "    <tr>\n",
       "      <th>3</th>\n",
       "      <td>3294</td>\n",
       "      <td>30 crédits</td>\n",
       "      <td>NaN</td>\n",
       "      <td>NaN</td>\n",
       "      <td>2024-10-17 04:32:25.184</td>\n",
       "      <td>2024-11-02 01:50:20.408</td>\n",
       "      <td>DESS en projets internationaux et ingénierie g...</td>\n",
       "      <td>https://www.etsmtl.ca/programmes-formations/de...</td>\n",
       "      <td>2</td>\n",
       "      <td>183498</td>\n",
       "    </tr>\n",
       "    <tr>\n",
       "      <th>4</th>\n",
       "      <td>6646</td>\n",
       "      <td>90 crédits, incluant 9 crédits de stage</td>\n",
       "      <td>NaN</td>\n",
       "      <td>NaN</td>\n",
       "      <td>2024-10-17 04:32:25.184</td>\n",
       "      <td>2024-11-02 01:50:20.408</td>\n",
       "      <td>Baccalauréat en informatique distribuée</td>\n",
       "      <td>https://www.etsmtl.ca/programmes-formations/ba...</td>\n",
       "      <td>1</td>\n",
       "      <td>182928</td>\n",
       "    </tr>\n",
       "  </tbody>\n",
       "</table>\n",
       "</div>"
      ],
      "text/plain": [
       "   code                                  credits  horaireCoursPdfJson  \\\n",
       "0  0648                               15 crédits                  NaN   \n",
       "1  0569                               15 crédits                  NaN   \n",
       "2  0514                               15 crédits                  NaN   \n",
       "3  3294                               30 crédits                  NaN   \n",
       "4  6646  90 crédits, incluant 9 crédits de stage                  NaN   \n",
       "\n",
       "   planificationPdfJson                createdAt                updatedAt  \\\n",
       "0                   NaN  2024-10-17 04:32:25.190  2024-11-02 01:50:20.409   \n",
       "1                   NaN  2024-10-17 04:32:25.191  2024-11-02 01:50:20.409   \n",
       "2                   NaN  2024-10-17 04:32:25.191  2024-11-02 01:50:20.409   \n",
       "3                   NaN  2024-10-17 04:32:25.184  2024-11-02 01:50:20.408   \n",
       "4                   NaN  2024-10-17 04:32:25.184  2024-11-02 01:50:20.408   \n",
       "\n",
       "                                               title  \\\n",
       "0  Programme court de 2<sup>e</sup> cycle en géni...   \n",
       "1  Programme court de 2<sup>e</sup> cycle en géni...   \n",
       "2  Programme court de 2<sup>e</sup> cycle en gest...   \n",
       "3  DESS en projets internationaux et ingénierie g...   \n",
       "4            Baccalauréat en informatique distribuée   \n",
       "\n",
       "                                                 url  cycle      id  \n",
       "0  https://www.etsmtl.ca/programmes-formations/pr...      2  183146  \n",
       "1  https://www.etsmtl.ca/programmes-formations/pr...      2  183156  \n",
       "2  https://www.etsmtl.ca/programmes-formations/pr...      2  183236  \n",
       "3  https://www.etsmtl.ca/programmes-formations/de...      2  183498  \n",
       "4  https://www.etsmtl.ca/programmes-formations/ba...      1  182928  "
      ]
     },
     "metadata": {},
     "output_type": "display_data"
    }
   ],
   "source": [
    "print(\"Program DataFrame Head:\")\n",
    "display(program_df.head())"
   ]
  },
  {
   "cell_type": "code",
   "execution_count": 23,
   "metadata": {},
   "outputs": [
    {
     "name": "stdout",
     "output_type": "stream",
     "text": [
      "\n",
      "ProgramCourse DataFrame Head:\n"
     ]
    },
    {
     "data": {
      "text/html": [
       "<div>\n",
       "<style scoped>\n",
       "    .dataframe tbody tr th:only-of-type {\n",
       "        vertical-align: middle;\n",
       "    }\n",
       "\n",
       "    .dataframe tbody tr th {\n",
       "        vertical-align: top;\n",
       "    }\n",
       "\n",
       "    .dataframe thead th {\n",
       "        text-align: right;\n",
       "    }\n",
       "</style>\n",
       "<table border=\"1\" class=\"dataframe\">\n",
       "  <thead>\n",
       "    <tr style=\"text-align: right;\">\n",
       "      <th></th>\n",
       "      <th>createdAt</th>\n",
       "      <th>updatedAt</th>\n",
       "      <th>typicalSessionIndex</th>\n",
       "      <th>courseId</th>\n",
       "      <th>programId</th>\n",
       "      <th>type</th>\n",
       "    </tr>\n",
       "  </thead>\n",
       "  <tbody>\n",
       "    <tr>\n",
       "      <th>0</th>\n",
       "      <td>2024-11-02 01:50:21.887</td>\n",
       "      <td>2024-11-02 01:50:21.887</td>\n",
       "      <td>1</td>\n",
       "      <td>351029</td>\n",
       "      <td>183256</td>\n",
       "      <td>NaN</td>\n",
       "    </tr>\n",
       "    <tr>\n",
       "      <th>1</th>\n",
       "      <td>2024-11-02 01:50:21.913</td>\n",
       "      <td>2024-11-02 01:50:21.913</td>\n",
       "      <td>3</td>\n",
       "      <td>353404</td>\n",
       "      <td>183040</td>\n",
       "      <td>TRONC</td>\n",
       "    </tr>\n",
       "    <tr>\n",
       "      <th>2</th>\n",
       "      <td>2024-11-02 01:50:21.958</td>\n",
       "      <td>2024-11-02 01:50:21.958</td>\n",
       "      <td>4</td>\n",
       "      <td>352245</td>\n",
       "      <td>182976</td>\n",
       "      <td>TRONC</td>\n",
       "    </tr>\n",
       "    <tr>\n",
       "      <th>3</th>\n",
       "      <td>2024-11-02 01:50:21.973</td>\n",
       "      <td>2024-11-02 01:50:21.973</td>\n",
       "      <td>4</td>\n",
       "      <td>351827</td>\n",
       "      <td>182976</td>\n",
       "      <td>TRONC</td>\n",
       "    </tr>\n",
       "    <tr>\n",
       "      <th>4</th>\n",
       "      <td>2024-11-02 01:50:21.981</td>\n",
       "      <td>2024-11-02 01:50:21.981</td>\n",
       "      <td>5</td>\n",
       "      <td>353458</td>\n",
       "      <td>182976</td>\n",
       "      <td>TRONC</td>\n",
       "    </tr>\n",
       "  </tbody>\n",
       "</table>\n",
       "</div>"
      ],
      "text/plain": [
       "                 createdAt                updatedAt  typicalSessionIndex  \\\n",
       "0  2024-11-02 01:50:21.887  2024-11-02 01:50:21.887                    1   \n",
       "1  2024-11-02 01:50:21.913  2024-11-02 01:50:21.913                    3   \n",
       "2  2024-11-02 01:50:21.958  2024-11-02 01:50:21.958                    4   \n",
       "3  2024-11-02 01:50:21.973  2024-11-02 01:50:21.973                    4   \n",
       "4  2024-11-02 01:50:21.981  2024-11-02 01:50:21.981                    5   \n",
       "\n",
       "   courseId  programId   type  \n",
       "0    351029     183256    NaN  \n",
       "1    353404     183040  TRONC  \n",
       "2    352245     182976  TRONC  \n",
       "3    351827     182976  TRONC  \n",
       "4    353458     182976  TRONC  "
      ]
     },
     "metadata": {},
     "output_type": "display_data"
    }
   ],
   "source": [
    "print(\"\\nProgramCourse DataFrame Head:\")\n",
    "display(program_course_df.head())"
   ]
  },
  {
   "cell_type": "code",
   "execution_count": 24,
   "metadata": {},
   "outputs": [
    {
     "name": "stdout",
     "output_type": "stream",
     "text": [
      "\n",
      "ProgramType DataFrame Head:\n"
     ]
    },
    {
     "data": {
      "text/html": [
       "<div>\n",
       "<style scoped>\n",
       "    .dataframe tbody tr th:only-of-type {\n",
       "        vertical-align: middle;\n",
       "    }\n",
       "\n",
       "    .dataframe tbody tr th {\n",
       "        vertical-align: top;\n",
       "    }\n",
       "\n",
       "    .dataframe thead th {\n",
       "        text-align: right;\n",
       "    }\n",
       "</style>\n",
       "<table border=\"1\" class=\"dataframe\">\n",
       "  <thead>\n",
       "    <tr style=\"text-align: right;\">\n",
       "      <th></th>\n",
       "      <th>id</th>\n",
       "      <th>title</th>\n",
       "    </tr>\n",
       "  </thead>\n",
       "  <tbody>\n",
       "    <tr>\n",
       "      <th>0</th>\n",
       "      <td>697435</td>\n",
       "      <td>Maîtrise avec projet</td>\n",
       "    </tr>\n",
       "    <tr>\n",
       "      <th>1</th>\n",
       "      <td>738239</td>\n",
       "      <td>Microprogramme</td>\n",
       "    </tr>\n",
       "    <tr>\n",
       "      <th>2</th>\n",
       "      <td>697451</td>\n",
       "      <td>Maîtrise avec mémoire</td>\n",
       "    </tr>\n",
       "    <tr>\n",
       "      <th>3</th>\n",
       "      <td>915770</td>\n",
       "      <td>Concentration en technologies de la santé</td>\n",
       "    </tr>\n",
       "    <tr>\n",
       "      <th>4</th>\n",
       "      <td>697388</td>\n",
       "      <td>Doctorat</td>\n",
       "    </tr>\n",
       "  </tbody>\n",
       "</table>\n",
       "</div>"
      ],
      "text/plain": [
       "       id                                      title\n",
       "0  697435                       Maîtrise avec projet\n",
       "1  738239                             Microprogramme\n",
       "2  697451                      Maîtrise avec mémoire\n",
       "3  915770  Concentration en technologies de la santé\n",
       "4  697388                                   Doctorat"
      ]
     },
     "metadata": {},
     "output_type": "display_data"
    }
   ],
   "source": [
    "print(\"\\nProgramType DataFrame Head:\")\n",
    "display(program_type_df.head())"
   ]
  },
  {
   "cell_type": "code",
   "execution_count": 25,
   "metadata": {},
   "outputs": [
    {
     "name": "stdout",
     "output_type": "stream",
     "text": [
      "\n",
      "Course DataFrame Head:\n"
     ]
    },
    {
     "data": {
      "text/html": [
       "<div>\n",
       "<style scoped>\n",
       "    .dataframe tbody tr th:only-of-type {\n",
       "        vertical-align: middle;\n",
       "    }\n",
       "\n",
       "    .dataframe tbody tr th {\n",
       "        vertical-align: top;\n",
       "    }\n",
       "\n",
       "    .dataframe thead th {\n",
       "        text-align: right;\n",
       "    }\n",
       "</style>\n",
       "<table border=\"1\" class=\"dataframe\">\n",
       "  <thead>\n",
       "    <tr style=\"text-align: right;\">\n",
       "      <th></th>\n",
       "      <th>code</th>\n",
       "      <th>title</th>\n",
       "      <th>description</th>\n",
       "      <th>credits</th>\n",
       "      <th>createdAt</th>\n",
       "      <th>updatedAt</th>\n",
       "      <th>id</th>\n",
       "      <th>cycle</th>\n",
       "    </tr>\n",
       "  </thead>\n",
       "  <tbody>\n",
       "    <tr>\n",
       "      <th>0</th>\n",
       "      <td>ATE800E</td>\n",
       "      <td>Academic Integrity : Concepts and Techniques</td>\n",
       "      <td>The ATE800 workshop must be passed in the firs...</td>\n",
       "      <td>0</td>\n",
       "      <td>2024-11-02 01:50:21.499</td>\n",
       "      <td>2024-11-02 01:50:21.569</td>\n",
       "      <td>407641</td>\n",
       "      <td>2</td>\n",
       "    </tr>\n",
       "    <tr>\n",
       "      <th>1</th>\n",
       "      <td>ELE735</td>\n",
       "      <td>Analyse numérique</td>\n",
       "      <td>Au terme de ce cours, l'étudiante ou l'étudian...</td>\n",
       "      <td>3</td>\n",
       "      <td>2024-11-02 01:50:21.502</td>\n",
       "      <td>2024-11-02 01:50:21.773</td>\n",
       "      <td>350543</td>\n",
       "      <td>1</td>\n",
       "    </tr>\n",
       "    <tr>\n",
       "      <th>2</th>\n",
       "      <td>MTI850</td>\n",
       "      <td>Analytiques des données massives</td>\n",
       "      <td>Ce cours présente les concepts pour effectuer ...</td>\n",
       "      <td>3</td>\n",
       "      <td>2024-11-02 01:50:21.502</td>\n",
       "      <td>2024-11-02 01:50:21.773</td>\n",
       "      <td>353344</td>\n",
       "      <td>2</td>\n",
       "    </tr>\n",
       "    <tr>\n",
       "      <th>3</th>\n",
       "      <td>CHM015</td>\n",
       "      <td>Chimie préparatoire pour le génie (hors progra...</td>\n",
       "      <td>Ce cours vise à initier l’étudiante ou l'étudi...</td>\n",
       "      <td>3</td>\n",
       "      <td>2024-11-02 01:50:21.503</td>\n",
       "      <td>2024-11-02 01:50:21.773</td>\n",
       "      <td>349708</td>\n",
       "      <td>1</td>\n",
       "    </tr>\n",
       "    <tr>\n",
       "      <th>4</th>\n",
       "      <td>ELE752</td>\n",
       "      <td>Appareillage électrique</td>\n",
       "      <td>Au terme de ce cours, l'étudiante ou l'étudian...</td>\n",
       "      <td>3</td>\n",
       "      <td>2024-11-02 01:50:21.502</td>\n",
       "      <td>2024-11-02 01:50:21.773</td>\n",
       "      <td>350599</td>\n",
       "      <td>1</td>\n",
       "    </tr>\n",
       "  </tbody>\n",
       "</table>\n",
       "</div>"
      ],
      "text/plain": [
       "      code                                              title  \\\n",
       "0  ATE800E       Academic Integrity : Concepts and Techniques   \n",
       "1   ELE735                                  Analyse numérique   \n",
       "2   MTI850                   Analytiques des données massives   \n",
       "3   CHM015  Chimie préparatoire pour le génie (hors progra...   \n",
       "4   ELE752                            Appareillage électrique   \n",
       "\n",
       "                                         description  credits  \\\n",
       "0  The ATE800 workshop must be passed in the firs...        0   \n",
       "1  Au terme de ce cours, l'étudiante ou l'étudian...        3   \n",
       "2  Ce cours présente les concepts pour effectuer ...        3   \n",
       "3  Ce cours vise à initier l’étudiante ou l'étudi...        3   \n",
       "4  Au terme de ce cours, l'étudiante ou l'étudian...        3   \n",
       "\n",
       "                 createdAt                updatedAt      id  cycle  \n",
       "0  2024-11-02 01:50:21.499  2024-11-02 01:50:21.569  407641      2  \n",
       "1  2024-11-02 01:50:21.502  2024-11-02 01:50:21.773  350543      1  \n",
       "2  2024-11-02 01:50:21.502  2024-11-02 01:50:21.773  353344      2  \n",
       "3  2024-11-02 01:50:21.503  2024-11-02 01:50:21.773  349708      1  \n",
       "4  2024-11-02 01:50:21.502  2024-11-02 01:50:21.773  350599      1  "
      ]
     },
     "metadata": {},
     "output_type": "display_data"
    }
   ],
   "source": [
    "print(\"\\nCourse DataFrame Head:\")\n",
    "display(course_df.head())"
   ]
  },
  {
   "cell_type": "code",
   "execution_count": 26,
   "metadata": {},
   "outputs": [
    {
     "name": "stdout",
     "output_type": "stream",
     "text": [
      "\n",
      "DataFrame Columns:\n",
      "Program: ['code', 'credits', 'horaireCoursPdfJson', 'planificationPdfJson', 'createdAt', 'updatedAt', 'title', 'url', 'cycle', 'id']\n",
      "ProgramCourse: ['createdAt', 'updatedAt', 'typicalSessionIndex', 'courseId', 'programId', 'type']\n",
      "ProgramType: ['id', 'title']\n",
      "Course: ['code', 'title', 'description', 'credits', 'createdAt', 'updatedAt', 'id', 'cycle']\n"
     ]
    }
   ],
   "source": [
    "print(\"\\nDataFrame Columns:\")\n",
    "print(\"Program:\", program_df.columns.tolist())\n",
    "print(\"ProgramCourse:\", program_course_df.columns.tolist())\n",
    "print(\"ProgramType:\", program_type_df.columns.tolist())\n",
    "print(\"Course:\", course_df.columns.tolist())"
   ]
  },
  {
   "cell_type": "markdown",
   "metadata": {},
   "source": [
    "# How many courses are in the dataset?"
   ]
  },
  {
   "cell_type": "code",
   "execution_count": 27,
   "metadata": {},
   "outputs": [
    {
     "name": "stdout",
     "output_type": "stream",
     "text": [
      "Number of courses in the dataset: 907\n"
     ]
    }
   ],
   "source": [
    "num_courses = course_df.shape[0]\n",
    "print(f\"Number of courses in the dataset: {num_courses}\")"
   ]
  },
  {
   "cell_type": "markdown",
   "metadata": {},
   "source": [
    "# How many unique courses are in the dataset?"
   ]
  },
  {
   "cell_type": "code",
   "execution_count": null,
   "metadata": {},
   "outputs": [],
   "source": []
  }
 ],
 "metadata": {
  "kernelspec": {
   "display_name": "Python 3",
   "language": "python",
   "name": "python3"
  },
  "language_info": {
   "codemirror_mode": {
    "name": "ipython",
    "version": 3
   },
   "file_extension": ".py",
   "mimetype": "text/x-python",
   "name": "python",
   "nbconvert_exporter": "python",
   "pygments_lexer": "ipython3",
   "version": "3.12.1"
  }
 },
 "nbformat": 4,
 "nbformat_minor": 2
}
